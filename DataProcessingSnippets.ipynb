{
 "cells": [
  {
   "cell_type": "code",
   "execution_count": null,
   "id": "0efe0ab4-505c-4ca1-8f65-a3cb7e6b9de1",
   "metadata": {},
   "outputs": [],
   "source": [
    "%matplotlib inline\n",
    "%config InlineBackend.figure_format = 'retina'"
   ]
  },
  {
   "cell_type": "code",
   "execution_count": null,
   "id": "99d34339",
   "metadata": {},
   "outputs": [],
   "source": [
    "import pandas as pd\n",
    "import numpy as np\n",
    "import csv\n",
    "\n",
    "from datetime import datetime\n",
    "\n",
    "import matplotlib.pyplot as plt\n",
    "import matplotlib.dates as mdates\n",
    "import matplotlib.ticker as plticker\n",
    "\n",
    "import functools\n",
    "import glob"
   ]
  },
  {
   "cell_type": "code",
   "execution_count": null,
   "id": "45fc5bb6",
   "metadata": {},
   "outputs": [],
   "source": [
    "def plot_signal(df, line_cat, y_cat):\n",
    "    lines = df[line_cat].unique().tolist()\n",
    "    for c in lines:\n",
    "        d = df.loc[df[line_cat]==c]\n",
    "        plt.scatter(d['Time'], d[y_cat], s=4, label=c)\n",
    "        #plt.plot(d['Time'], d[y_cat], label=c)\n",
    "    plt.title(line_cat+' - '+y_cat)\n",
    "    plt.legend()\n",
    "    plt.show()\n",
    "    plt.clf()"
   ]
  },
  {
   "cell_type": "code",
   "execution_count": null,
   "id": "b80f7537",
   "metadata": {},
   "outputs": [],
   "source": [
    "# drop non numeric rows\n",
    "\n",
    "df_lte['Time'] = pd.to_datetime(df_lte['Time'])\n",
    "df_lte[[\"Band\",\"EARFCN\",\"RSRP\",\"RSRQ\"]] = df_lte[[\"Band\",\"EARFCN\",\"RSRP\",\"RSRQ\"]].apply(pd.to_numeric, errors='coerce')"
   ]
  },
  {
   "cell_type": "code",
   "execution_count": null,
   "id": "ed09973c",
   "metadata": {},
   "outputs": [],
   "source": [
    "# filter date\n",
    "def range_filter(df, cat, start, end):\n",
    "    date_str = datetime.now().strftime(\"%Y-%m-%d \")\n",
    "    return df.loc[(df[cat] > date_str+start) & (df[cat] <= date_str+end)]\n",
    "\n",
    "start_time = '00:19:30'\n",
    "end_time = '00:20:00'\n",
    "\n",
    "df_nr = range_filter(df_nr, 'Time', start_time, end_time)\n",
    "df_lte = range_filter(df_lte, 'Time', start_time, end_time)"
   ]
  },
  {
   "cell_type": "code",
   "execution_count": null,
   "id": "bf80758e",
   "metadata": {},
   "outputs": [],
   "source": [
    "# predefine datatype\n",
    "df = pd.read_csv('./5GBeams-v0.9/City-Wide-Coverage/v0.9-SLOOP-OpX-Combined.csv',\\\n",
    "                dtype={'5G-NR RRC NSA RRC State Info NSA RRC State': 'string'})"
   ]
  },
  {
   "cell_type": "code",
   "execution_count": null,
   "id": "6630578b",
   "metadata": {},
   "outputs": [],
   "source": [
    "# twin plot\n",
    "fig, ax1 = plt.subplots()\n",
    "\n",
    "ax2 = ax1.twinx()\n",
    "ax1.scatter(range(N), df_tmp['5G-NR RRC NSA RRC State Info NSA RRC State'], color='g')\n",
    "ax2.plot(range(N), df_tmp['LTE KPI PCell Serving RSRQ[dB]'], color='b')\n",
    "\n",
    "ax1.set_xlabel('X data')\n",
    "ax1.set_ylabel('Y1 data', color='g')\n",
    "ax2.set_ylabel('Y2 data', color='b')"
   ]
  },
  {
   "cell_type": "code",
   "execution_count": null,
   "id": "2932c88a",
   "metadata": {},
   "outputs": [],
   "source": [
    "# drop/display NaN\n",
    "df.dropna(subset=['5G KPI PCell RF Best Beam SS-RSRQ [dB]'])\n",
    "# replace NAN\n",
    "df_tmp[['5G-NR RRC NSA RRC State Info NSA RRC State']] = df_tmp[['5G-NR RRC NSA RRC State Info NSA RRC State']].fillna('')"
   ]
  },
  {
   "cell_type": "code",
   "execution_count": null,
   "id": "65d7bfac",
   "metadata": {},
   "outputs": [],
   "source": [
    "# find slots\n",
    "def find_range(d, start_v, end_v):\n",
    "    start = -1\n",
    "    for i,e in enumerate(d):\n",
    "        if e == start_v:\n",
    "            start = i\n",
    "            break\n",
    "    for i,e in enumerate(d[start:]):\n",
    "        if e == end_v:\n",
    "            return start, start+i\n",
    "    return start, -1"
   ]
  },
  {
   "cell_type": "code",
   "execution_count": 11,
   "id": "733da708",
   "metadata": {},
   "outputs": [
    {
     "data": {
      "text/plain": [
       "[0, 1, 2, 3, 4, 5, 6, 7, 8]"
      ]
     },
     "execution_count": 11,
     "metadata": {},
     "output_type": "execute_result"
    }
   ],
   "source": [
    "import glob\n",
    "\n",
    "files = glob.glob(my_path + '/**/*.csv', recursive=True)"
   ]
  }
 ],
 "metadata": {
  "kernelspec": {
   "display_name": "Python 3 (ipykernel)",
   "language": "python",
   "name": "python3"
  },
  "language_info": {
   "codemirror_mode": {
    "name": "ipython",
    "version": 3
   },
   "file_extension": ".py",
   "mimetype": "text/x-python",
   "name": "python",
   "nbconvert_exporter": "python",
   "pygments_lexer": "ipython3",
   "version": "3.10.5"
  }
 },
 "nbformat": 4,
 "nbformat_minor": 5
}
