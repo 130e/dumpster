{
 "cells": [
  {
   "cell_type": "code",
   "execution_count": null,
   "id": "0efe0ab4-505c-4ca1-8f65-a3cb7e6b9de1",
   "metadata": {},
   "outputs": [],
   "source": [
    "%matplotlib inline\n",
    "%config InlineBackend.figure_format = 'retina'"
   ]
  },
  {
   "cell_type": "code",
   "execution_count": null,
   "id": "99d34339",
   "metadata": {},
   "outputs": [],
   "source": [
    "import pandas as pd\n",
    "import numpy as np\n",
    "import csv\n",
    "\n",
    "from datetime import datetime\n",
    "\n",
    "import matplotlib.pyplot as plt\n",
    "import matplotlib.dates as mdates\n",
    "import matplotlib.ticker as plticker\n",
    "\n",
    "import functools\n",
    "import glob"
   ]
  },
  {
   "cell_type": "code",
   "execution_count": null,
   "id": "b80f7537",
   "metadata": {},
   "outputs": [],
   "source": [
    "# drop non numeric rows\n",
    "df_lte['Time'] = pd.to_datetime(df_lte['Time'])\n",
    "df_lte[[\"Band\",\"EARFCN\",\"RSRP\",\"RSRQ\"]] = df_lte[[\"Band\",\"EARFCN\",\"RSRP\",\"RSRQ\"]].apply(pd.to_numeric, errors='coerce')"
   ]
  },
  {
   "cell_type": "code",
   "execution_count": null,
   "id": "ed09973c",
   "metadata": {},
   "outputs": [],
   "source": [
    "# filter date\n",
    "def range_filter(df, cat, start, end):\n",
    "    date_str = datetime.now().strftime(\"%Y-%m-%d \")\n",
    "    return df.loc[(df[cat] > date_str+start) & (df[cat] <= date_str+end)]\n",
    "\n",
    "start_time = '00:19:30'\n",
    "end_time = '00:20:00'\n",
    "\n",
    "df_nr = range_filter(df_nr, 'Time', start_time, end_time)\n",
    "df_lte = range_filter(df_lte, 'Time', start_time, end_time)"
   ]
  },
  {
   "cell_type": "code",
   "execution_count": null,
   "id": "bf80758e",
   "metadata": {},
   "outputs": [],
   "source": [
    "# predefine datatype\n",
    "df = pd.read_csv('./5GBeams-v0.9/City-Wide-Coverage/v0.9-SLOOP-OpX-Combined.csv',\\\n",
    "                dtype={'5G-NR RRC NSA RRC State Info NSA RRC State': 'string'})"
   ]
  },
  {
   "cell_type": "code",
   "execution_count": null,
   "id": "6630578b",
   "metadata": {},
   "outputs": [],
   "source": [
    "# twin plot\n",
    "def twin_graph(df,x1,x2):\n",
    "    fig, ax1 = plt.subplots()\n",
    "    ax2 = ax1.twinx()\n",
    "    \n",
    "    ax1.scatter(df['Time'],df[x1],s=2,color='b')\n",
    "    ax1.set_xlabel('Time')\n",
    "    ax1.set_ylabel('Beam RSRQ', color='b')\n",
    "    \n",
    "    ax2.step(df['Time'],df[x2], color='g')\n",
    "    ax2.set_ylabel('Cell', color='g')"
   ]
  },
  {
   "cell_type": "code",
   "execution_count": null,
   "id": "2932c88a",
   "metadata": {},
   "outputs": [],
   "source": [
    "# drop the rows if tag is NaN\n",
    "df.dropna(subset=['5G KPI PCell RF Best Beam SS-RSRQ [dB]'])\n",
    "# replace NaN\n",
    "df_tmp[['5G-NR RRC NSA RRC State Info NSA RRC State']] = df_tmp[['5G-NR RRC NSA RRC State Info NSA RRC State']].fillna('')\n",
    "# drop all nan columns\n",
    "df.dropna(axis=1, how='all', inplace=True)"
   ]
  },
  {
   "cell_type": "code",
   "execution_count": null,
   "id": "65d7bfac",
   "metadata": {},
   "outputs": [],
   "source": [
    "# find slots\n",
    "def find_range(d, start_v, end_v):\n",
    "    start = -1\n",
    "    for i,e in enumerate(d):\n",
    "        if e == start_v:\n",
    "            start = i\n",
    "            break\n",
    "    for i,e in enumerate(d[start:]):\n",
    "        if e == end_v:\n",
    "            return start, start+i\n",
    "    return start, -1"
   ]
  },
  {
   "cell_type": "code",
   "execution_count": null,
   "id": "733da708",
   "metadata": {},
   "outputs": [],
   "source": [
    "# file walking\n",
    "import glob\n",
    "files = glob.glob(my_path + '/**/*.csv', recursive=True)"
   ]
  },
  {
   "cell_type": "code",
   "execution_count": null,
   "id": "a66f1327-19be-4281-b754-a9b4407e2ce2",
   "metadata": {},
   "outputs": [],
   "source": [
    "# 5G NR dataset processing\n",
    "def stat(df, tag):\n",
    "    print(pd.unique(df[tag]))\n",
    "    plt.scatter(range(len(df)), df[tag])\n",
    "    def stat(df, tag):\n",
    "    print(pd.unique(df[tag]))\n",
    "    plt.scatter(range(len(df)), df[tag])\n",
    "    \n",
    "def cal_interval(df_time):\n",
    "    time = list(df_time)\n",
    "    d = []\n",
    "    prev = time[0]\n",
    "    for e in time[1:]:\n",
    "        d.append((e-prev).total_seconds()*1000)\n",
    "        prev = e\n",
    "    d = np.array(d)\n",
    "    idx = np.argsort(d)\n",
    "    print('Max ', d[idx[-5:][::-1]])\n",
    "    print('Min ', d[idx[:5]])\n",
    "    print('Avg ', np.average(d))\n",
    "\n",
    "# Catch time gaps\n",
    "flag = False\n",
    "for index, row in DF.iterrows():\n",
    "    if not flag:\n",
    "        if pd.isnull(row[serv_b]):\n",
    "            #print(row['Time'])\n",
    "            flag=True\n",
    "            idx = index\n",
    "    elif pd.notnull(row[serv_b]):\n",
    "        #print(row['Time'])\n",
    "        flag = False\n",
    "        if (DF.iloc[index]['Time']-DF.iloc[idx]['Time']).total_seconds() > 3:\n",
    "            print(idx, DF.iloc[idx]['Time'])\n",
    "            print(index, DF.iloc[index]['Time'])"
   ]
  },
  {
   "cell_type": "code",
   "execution_count": 1,
   "id": "d5573a65-394d-45a4-95c3-b09686c84de4",
   "metadata": {},
   "outputs": [],
   "source": [
    "# CDF\n",
    "def ecdf(a):\n",
    "    x, counts = np.unique(a, return_counts=True)\n",
    "    cusum = np.cumsum(counts)\n",
    "    return x, cusum / cusum[-1]\n",
    "\n",
    "def plot_ecdf(a, title=None, xlabel=None):\n",
    "    x, y = ecdf(a)\n",
    "    x = np.insert(x, 0, x[0])\n",
    "    y = np.insert(y, 0, 0.)\n",
    "    plt.plot(x, y, drawstyle='steps-post')\n",
    "    plt.xlabel(xlabel)\n",
    "    plt.grid(True)\n",
    "    plt.title(title)\n",
    "    plt.show()"
   ]
  },
  {
   "cell_type": "code",
   "execution_count": null,
   "id": "de461880-56ed-4cd6-ba22-5fb4c05d293b",
   "metadata": {},
   "outputs": [],
   "source": []
  },
  {
   "cell_type": "code",
   "execution_count": null,
   "id": "8116a87d-369a-46f3-9873-a0b8e532c3ca",
   "metadata": {},
   "outputs": [],
   "source": [
    "# creates a (roughly square) grid of axes that can hold at least n subplots\n",
    "# returns a flattened (1D) list of these n axes\n",
    "\n",
    "def getsubplots(n):\n",
    "    plotrows = int(np.floor(np.sqrt(n)))\n",
    "    plotcols = int(np.ceil(n/plotrows))\n",
    "\n",
    "    fig,axs = plt.subplots(plotrows,plotcols)\n",
    "    #fig.tight_layout(rect=[0, 0.03, 1, 0.95])\n",
    "    axs = axs.flatten()\n",
    "    for ax in axs[n:]:\n",
    "        ax.set_axis_off()\n",
    "    return axs[:n]"
   ]
  },
  {
   "cell_type": "code",
   "execution_count": null,
   "id": "57760fb6-4d42-452c-b843-3761cf394c67",
   "metadata": {},
   "outputs": [],
   "source": [
    "# Max/Min N value\n",
    "arr = np.array([1, 3, 2, 4, 5])\n",
    "# Max 3\n",
    "arr.argsort()[-3:][::-1]\n",
    "# Min 2\n",
    "arr.argsort()[-2:]"
   ]
  },
  {
   "cell_type": "code",
   "execution_count": null,
   "id": "156736ae-7e3e-4877-9f10-ac42513c573f",
   "metadata": {},
   "outputs": [],
   "source": [
    "# Catch time gaps\n",
    "flag = False\n",
    "\n",
    "for index, row in DF.iterrows():\n",
    "    if not flag:\n",
    "        if pd.isnull(row[serv_b]):\n",
    "            #print(row['Time'])\n",
    "            flag=True\n",
    "            idx = index\n",
    "    elif pd.notnull(row[serv_b]):\n",
    "        #print(row['Time'])\n",
    "        flag = False\n",
    "        if (DF.iloc[index]['Time']-DF.iloc[idx]['Time']).total_seconds() > 5:\n",
    "            print(idx, DF.iloc[idx]['Time'])\n",
    "            print(index, DF.iloc[index]['Time'])"
   ]
  },
  {
   "cell_type": "code",
   "execution_count": null,
   "id": "e98e7753-51d5-4110-821a-75aa4699e555",
   "metadata": {},
   "outputs": [],
   "source": [
    "# Transform timezone\n",
    "pd.Timestamp(data['start']['timestamp']['time'][:-4],tz='GMT').tz_convert(tz='America/Los_Angeles').tz_localize(None)"
   ]
  },
  {
   "cell_type": "code",
   "execution_count": null,
   "id": "e37d2c5f-4e63-40bf-80e0-392a42341764",
   "metadata": {},
   "outputs": [],
   "source": [
    "# Plot time\n",
    "ax1.xaxis.set_major_formatter(mdates.DateFormatter('%S'))\n",
    "ax1.xaxis.set_major_locator(mdates.SecondLocator(interval=10))\n",
    "\n",
    "fig.autofmt_xdate()\n",
    "plt.xticks(rotation=90, fontweight='light',  fontsize='x-small')"
   ]
  },
  {
   "cell_type": "code",
   "execution_count": null,
   "id": "4a5b0d45-ef18-4c47-a0c6-91879f98a9af",
   "metadata": {},
   "outputs": [],
   "source": [
    "# Iperf related\n",
    "def get_tp(f):\n",
    "    data=json.load(f)\n",
    "    time=[]\n",
    "    tp=[]\n",
    "    prev_t=pd.Timestamp(data['start']['timestamp']['time'][:-4],tz='GMT').tz_convert(tz='America/Los_Angeles').tz_localize(None)\n",
    "    for interval in data['intervals']:\n",
    "        prev_t=pd.Timedelta(seconds=interval['sum']['seconds'])+prev_t\n",
    "        time.append(prev_t)\n",
    "        tp.append(interval['sum']['bits_per_second']/1000000)\n",
    "    return time,tp\n",
    "with open('','r') as f:\n",
    "    app_time,app_tp=get_tp()\n",
    "\n",
    "# Fix iperf\n",
    "def fix_iperf_log(fname):\n",
    "    with open(fname,'r') as f:\n",
    "        text=f.readlines()\n",
    "        text=text[:-11]\n",
    "        with open(fname+'.fixed','w') as out:\n",
    "            out.writelines(text)"
   ]
  }
 ],
 "metadata": {
  "kernelspec": {
   "display_name": "Python 3 (ipykernel)",
   "language": "python",
   "name": "python3"
  },
  "language_info": {
   "codemirror_mode": {
    "name": "ipython",
    "version": 3
   },
   "file_extension": ".py",
   "mimetype": "text/x-python",
   "name": "python",
   "nbconvert_exporter": "python",
   "pygments_lexer": "ipython3",
   "version": "3.10.9"
  }
 },
 "nbformat": 4,
 "nbformat_minor": 5
}
